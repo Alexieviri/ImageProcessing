{
 "cells": [
  {
   "cell_type": "code",
   "execution_count": 3,
   "metadata": {},
   "outputs": [],
   "source": [
    "from PIL import Image, ImageOps\n",
    "import matplotlib.pyplot as plt\n",
    "import numpy as np"
   ]
  },
  {
   "cell_type": "code",
   "execution_count": 14,
   "metadata": {},
   "outputs": [
    {
     "data": {
      "text/plain": [
       "<Figure size 432x288 with 0 Axes>"
      ]
     },
     "metadata": {},
     "output_type": "display_data"
    }
   ],
   "source": [
    "# Первое задание\n",
    "img: Image.Image = Image.open(\"test.png\")\n",
    "# получение минимального и максимального значения функции яркости изображения\n",
    "b_min, b_max = get_brightness_min_and_max(img)\n",
    "# получение гистограммы изображения\n",
    "plot_hist(img, \"originalFig.png\")\n"
   ]
  },
  {
   "cell_type": "code",
   "execution_count": 16,
   "metadata": {},
   "outputs": [
    {
     "data": {
      "text/plain": [
       "<Figure size 432x288 with 0 Axes>"
      ]
     },
     "metadata": {},
     "output_type": "display_data"
    }
   ],
   "source": [
    "# Второе задание\n",
    "b1_min, b1_max = (0, 255)\n",
    "# растяжение изображения из одного диапазона значений в другой диапазон\n",
    "img1 = stretch_image_range(img, (b_min, b_max), (b1_min, b1_max), show=False)\n",
    "plot_hist(img1, \"linearFIG.png\", show=False)\n"
   ]
  },
  {
   "cell_type": "code",
   "execution_count": 17,
   "metadata": {},
   "outputs": [
    {
     "data": {
      "text/plain": [
       "<Figure size 432x288 with 0 Axes>"
      ]
     },
     "metadata": {},
     "output_type": "display_data"
    }
   ],
   "source": [
    "# Первое задание продолжение\n",
    "# Поиск погорового значения на изорбажении с отмасшатабированым диапазоном функции яркости\n",
    "threshold = find_threshold(img1)\n",
    "# Масшабирование порогового значения в старый диапазон\n",
    "threshold = range_convert(threshold, (b1_min, b1_max), (b_min, b_max))\n",
    "    \n",
    "img0 = threshold_proc(img, threshold, show=False)\n",
    "plot_hist(img0, \"thresholdFig.png\", show=False)\n"
   ]
  },
  {
   "cell_type": "code",
   "execution_count": 31,
   "metadata": {},
   "outputs": [
    {
     "data": {
      "text/plain": [
       "<Figure size 432x288 with 0 Axes>"
      ]
     },
     "metadata": {},
     "output_type": "display_data"
    }
   ],
   "source": [
    "# Третье задание\n",
    "# params[0] - диапазон, где лежит \"порог для выреза\"\n",
    "# params[1] - коэффициенты c1,c2,c3, c1 и c3 - коэффициенты лнейной функции, c2 - константа для порога\n",
    "params = [(213, 225), (0, 255, 0)]\n",
    "img2 = elem_wise_transform(img, params, f1, show=False)\n",
    "plot_hist(img2, \"elemWiseFIG.png\", show=False)\n"
   ]
  },
  {
   "cell_type": "code",
   "execution_count": 5,
   "metadata": {},
   "outputs": [],
   "source": [
    "def plot_hist(img, name, show=False):\n",
    "    img = ImageOps.grayscale(img)\n",
    "\n",
    "    hist = img.histogram()\n",
    "\n",
    "    plt.ylim(bottom=-0.2, top=np.max(hist) + 15)\n",
    "    plt.bar(range(0, 256), hist)\n",
    "    plt.grid()\n",
    "    if show:\n",
    "        plt.show()\n",
    "    plt.savefig(name, dpi=250)\n",
    "    plt.clf()\n"
   ]
  },
  {
   "cell_type": "code",
   "execution_count": 6,
   "metadata": {},
   "outputs": [],
   "source": [
    "def threshold_proc(img, threshold, show=False):\n",
    "    img_tmp = ImageOps.grayscale(img)\n",
    "    pix = img_tmp.load()\n",
    "    for i in range(img.size[0]):\n",
    "        for j in range(img.size[1]):\n",
    "            if pix[i, j] < threshold:\n",
    "                pix[i, j] = 0\n",
    "            else:\n",
    "                pix[i, j] = 255\n",
    "    if show:\n",
    "        img_tmp.show()\n",
    "    img_tmp.save(\"threshold.png\")\n",
    "    return img_tmp\n"
   ]
  },
  {
   "cell_type": "code",
   "execution_count": 7,
   "metadata": {},
   "outputs": [],
   "source": [
    "def get_brightness_min_and_max(img):\n",
    "    img_arr = np.array(ImageOps.grayscale(img))\n",
    "    return img_arr.min(), img_arr.max()\n"
   ]
  },
  {
   "cell_type": "code",
   "execution_count": 8,
   "metadata": {},
   "outputs": [],
   "source": [
    "def range_convert(x, x_range, y_range):\n",
    "    x_bot, x_top = x_range\n",
    "    y_bot, y_top = y_range\n",
    "    # сдвиг и масштабирование\n",
    "    return (int)(((x - x_bot) / (x_top - x_bot)) * (y_top - y_bot) + y_bot)\n"
   ]
  },
  {
   "cell_type": "code",
   "execution_count": 9,
   "metadata": {},
   "outputs": [],
   "source": [
    "def stretch_image_range(img, x_range, y_range, show=False):\n",
    "    img_tmp = ImageOps.grayscale(img)\n",
    "    pix = img_tmp.load()\n",
    "    # проходимся по всем пикселям изображения и отображаем значения одного диапазона в другой\n",
    "    for i in range(img.size[0]):\n",
    "        for j in range(img.size[1]):\n",
    "            pix[i, j] = range_convert(pix[i, j], x_range, y_range)\n",
    "    if show:\n",
    "        img_tmp.show()\n",
    "    img_tmp.save(\"linear.png\")\n",
    "    return img_tmp\n"
   ]
  },
  {
   "cell_type": "code",
   "execution_count": 10,
   "metadata": {},
   "outputs": [],
   "source": [
    "def clamp(x, a, b):\n",
    "    if x > b:\n",
    "        return int(b)\n",
    "    elif x < a:\n",
    "        return int(a)\n",
    "    else:\n",
    "        return int(x)\n"
   ]
  },
  {
   "cell_type": "code",
   "execution_count": 29,
   "metadata": {},
   "outputs": [],
   "source": [
    "# функция преобразования одного значения\n",
    "def f1(x, params):\n",
    "    a, b = params[0]\n",
    "    c1, c2, c3 = params[1]\n",
    "    if x < a:\n",
    "        return c1\n",
    "    elif a <= x < b:\n",
    "        return c2\n",
    "    elif b <= x:\n",
    "        return c3\n"
   ]
  },
  {
   "cell_type": "code",
   "execution_count": 12,
   "metadata": {},
   "outputs": [],
   "source": [
    "#функция для поэлементного преобразования\n",
    "def elem_wise_transform(img, params, f, show=False):\n",
    "    img_tmp = ImageOps.grayscale(img)\n",
    "    pix = img_tmp.load()\n",
    "    #проходимся по пикселям изображения\n",
    "    for i in range(img.size[0]):\n",
    "        for j in range(img.size[1]):\n",
    "            pix[i, j] = f(pix[i, j], params)\n",
    "    if show:\n",
    "        img_tmp.show()\n",
    "    img_tmp.save(\"elemWise.png\")\n",
    "    return img_tmp\n"
   ]
  },
  {
   "cell_type": "code",
   "execution_count": 13,
   "metadata": {},
   "outputs": [],
   "source": [
    "#функция для поиска порогового значения\n",
    "def find_threshold(img):\n",
    "    img = ImageOps.grayscale(img)\n",
    "    hist = img.histogram()\n",
    "    left, right = [np.where(hist == i)[0][0] for i in np.sort(hist)[-2:]]\n",
    "    vals = hist[left:right]\n",
    "    i = np.where(vals == np.min(np.take(vals, np.nonzero(vals))))\n",
    "    return i[0][0] + left\n"
   ]
  },
  {
   "cell_type": "code",
   "execution_count": null,
   "metadata": {},
   "outputs": [],
   "source": []
  }
 ],
 "metadata": {
  "kernelspec": {
   "display_name": "Python 3",
   "language": "python",
   "name": "python3"
  },
  "language_info": {
   "codemirror_mode": {
    "name": "ipython",
    "version": 3
   },
   "file_extension": ".py",
   "mimetype": "text/x-python",
   "name": "python",
   "nbconvert_exporter": "python",
   "pygments_lexer": "ipython3",
   "version": "3.8.5"
  }
 },
 "nbformat": 4,
 "nbformat_minor": 4
}
